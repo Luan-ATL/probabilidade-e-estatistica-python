{
  "nbformat": 4,
  "nbformat_minor": 0,
  "metadata": {
    "colab": {
      "name": "PEE - Exercício Pandas 1.ipynb",
      "provenance": [],
      "include_colab_link": true
    },
    "kernelspec": {
      "name": "python3",
      "display_name": "Python 3"
    }
  },
  "cells": [
    {
      "cell_type": "markdown",
      "metadata": {
        "id": "view-in-github",
        "colab_type": "text"
      },
      "source": [
        "<a href=\"https://colab.research.google.com/github/Luan-ATL/probabilidade-e-estatistica-python-/blob/main/PEE_Exerc%C3%ADcio_Pandas_1.ipynb\" target=\"_parent\"><img src=\"https://colab.research.google.com/assets/colab-badge.svg\" alt=\"Open In Colab\"/></a>"
      ]
    },
    {
      "cell_type": "code",
      "metadata": {
        "id": "JPehXNejCVEd"
      },
      "source": [
        "import pandas as pd"
      ],
      "execution_count": null,
      "outputs": []
    },
    {
      "cell_type": "code",
      "metadata": {
        "id": "LHvYAjxbHSSw"
      },
      "source": [
        "df = pd.read_csv('https://gist.githubusercontent.com/edupsousa/ea8c027229afc728a5092874824efdb7/raw/cffabcb768e497ddde6b5d8ea1a43c8bd81688bd/pee_pandas_ex1.csv')"
      ],
      "execution_count": null,
      "outputs": []
    },
    {
      "cell_type": "code",
      "metadata": {
        "id": "bAaPLsjHHbal",
        "outputId": "5c446d90-f2be-4e2a-d5a3-91da45990b06",
        "colab": {
          "base_uri": "https://localhost:8080/",
          "height": 793
        }
      },
      "source": [
        "df"
      ],
      "execution_count": null,
      "outputs": [
        {
          "output_type": "execute_result",
          "data": {
            "text/html": [
              "<div>\n",
              "<style scoped>\n",
              "    .dataframe tbody tr th:only-of-type {\n",
              "        vertical-align: middle;\n",
              "    }\n",
              "\n",
              "    .dataframe tbody tr th {\n",
              "        vertical-align: top;\n",
              "    }\n",
              "\n",
              "    .dataframe thead th {\n",
              "        text-align: right;\n",
              "    }\n",
              "</style>\n",
              "<table border=\"1\" class=\"dataframe\">\n",
              "  <thead>\n",
              "    <tr style=\"text-align: right;\">\n",
              "      <th></th>\n",
              "      <th>Aluno</th>\n",
              "      <th>Semestre</th>\n",
              "      <th>Disciplina</th>\n",
              "      <th>Nota</th>\n",
              "    </tr>\n",
              "  </thead>\n",
              "  <tbody>\n",
              "    <tr>\n",
              "      <th>0</th>\n",
              "      <td>Ana</td>\n",
              "      <td>1</td>\n",
              "      <td>Matemática</td>\n",
              "      <td>1</td>\n",
              "    </tr>\n",
              "    <tr>\n",
              "      <th>1</th>\n",
              "      <td>Ana</td>\n",
              "      <td>1</td>\n",
              "      <td>Português</td>\n",
              "      <td>6</td>\n",
              "    </tr>\n",
              "    <tr>\n",
              "      <th>2</th>\n",
              "      <td>Ana</td>\n",
              "      <td>2</td>\n",
              "      <td>Física</td>\n",
              "      <td>8</td>\n",
              "    </tr>\n",
              "    <tr>\n",
              "      <th>3</th>\n",
              "      <td>Ana</td>\n",
              "      <td>2</td>\n",
              "      <td>História</td>\n",
              "      <td>8</td>\n",
              "    </tr>\n",
              "    <tr>\n",
              "      <th>4</th>\n",
              "      <td>Beatriz</td>\n",
              "      <td>1</td>\n",
              "      <td>Matemática</td>\n",
              "      <td>7</td>\n",
              "    </tr>\n",
              "    <tr>\n",
              "      <th>5</th>\n",
              "      <td>Beatriz</td>\n",
              "      <td>1</td>\n",
              "      <td>Português</td>\n",
              "      <td>5</td>\n",
              "    </tr>\n",
              "    <tr>\n",
              "      <th>6</th>\n",
              "      <td>Beatriz</td>\n",
              "      <td>2</td>\n",
              "      <td>Física</td>\n",
              "      <td>4</td>\n",
              "    </tr>\n",
              "    <tr>\n",
              "      <th>7</th>\n",
              "      <td>Beatriz</td>\n",
              "      <td>2</td>\n",
              "      <td>História</td>\n",
              "      <td>8</td>\n",
              "    </tr>\n",
              "    <tr>\n",
              "      <th>8</th>\n",
              "      <td>Carlos</td>\n",
              "      <td>1</td>\n",
              "      <td>Matemática</td>\n",
              "      <td>4</td>\n",
              "    </tr>\n",
              "    <tr>\n",
              "      <th>9</th>\n",
              "      <td>Carlos</td>\n",
              "      <td>1</td>\n",
              "      <td>Português</td>\n",
              "      <td>8</td>\n",
              "    </tr>\n",
              "    <tr>\n",
              "      <th>10</th>\n",
              "      <td>Carlos</td>\n",
              "      <td>2</td>\n",
              "      <td>Física</td>\n",
              "      <td>3</td>\n",
              "    </tr>\n",
              "    <tr>\n",
              "      <th>11</th>\n",
              "      <td>Carlos</td>\n",
              "      <td>2</td>\n",
              "      <td>História</td>\n",
              "      <td>10</td>\n",
              "    </tr>\n",
              "    <tr>\n",
              "      <th>12</th>\n",
              "      <td>Daniel</td>\n",
              "      <td>1</td>\n",
              "      <td>Matemática</td>\n",
              "      <td>4</td>\n",
              "    </tr>\n",
              "    <tr>\n",
              "      <th>13</th>\n",
              "      <td>Daniel</td>\n",
              "      <td>1</td>\n",
              "      <td>Português</td>\n",
              "      <td>6</td>\n",
              "    </tr>\n",
              "    <tr>\n",
              "      <th>14</th>\n",
              "      <td>Daniel</td>\n",
              "      <td>2</td>\n",
              "      <td>Física</td>\n",
              "      <td>3</td>\n",
              "    </tr>\n",
              "    <tr>\n",
              "      <th>15</th>\n",
              "      <td>Daniel</td>\n",
              "      <td>2</td>\n",
              "      <td>História</td>\n",
              "      <td>9</td>\n",
              "    </tr>\n",
              "    <tr>\n",
              "      <th>16</th>\n",
              "      <td>Fernanda</td>\n",
              "      <td>1</td>\n",
              "      <td>Matemática</td>\n",
              "      <td>2</td>\n",
              "    </tr>\n",
              "    <tr>\n",
              "      <th>17</th>\n",
              "      <td>Fernanda</td>\n",
              "      <td>1</td>\n",
              "      <td>Português</td>\n",
              "      <td>8</td>\n",
              "    </tr>\n",
              "    <tr>\n",
              "      <th>18</th>\n",
              "      <td>Fernanda</td>\n",
              "      <td>2</td>\n",
              "      <td>Física</td>\n",
              "      <td>6</td>\n",
              "    </tr>\n",
              "    <tr>\n",
              "      <th>19</th>\n",
              "      <td>Fernanda</td>\n",
              "      <td>2</td>\n",
              "      <td>História</td>\n",
              "      <td>2</td>\n",
              "    </tr>\n",
              "    <tr>\n",
              "      <th>20</th>\n",
              "      <td>João</td>\n",
              "      <td>1</td>\n",
              "      <td>Matemática</td>\n",
              "      <td>1</td>\n",
              "    </tr>\n",
              "    <tr>\n",
              "      <th>21</th>\n",
              "      <td>João</td>\n",
              "      <td>1</td>\n",
              "      <td>Português</td>\n",
              "      <td>8</td>\n",
              "    </tr>\n",
              "    <tr>\n",
              "      <th>22</th>\n",
              "      <td>João</td>\n",
              "      <td>2</td>\n",
              "      <td>Física</td>\n",
              "      <td>8</td>\n",
              "    </tr>\n",
              "    <tr>\n",
              "      <th>23</th>\n",
              "      <td>João</td>\n",
              "      <td>2</td>\n",
              "      <td>História</td>\n",
              "      <td>2</td>\n",
              "    </tr>\n",
              "  </tbody>\n",
              "</table>\n",
              "</div>"
            ],
            "text/plain": [
              "       Aluno  Semestre  Disciplina  Nota\n",
              "0        Ana         1  Matemática     1\n",
              "1        Ana         1   Português     6\n",
              "2        Ana         2      Física     8\n",
              "3        Ana         2    História     8\n",
              "4    Beatriz         1  Matemática     7\n",
              "5    Beatriz         1   Português     5\n",
              "6    Beatriz         2      Física     4\n",
              "7    Beatriz         2    História     8\n",
              "8     Carlos         1  Matemática     4\n",
              "9     Carlos         1   Português     8\n",
              "10    Carlos         2      Física     3\n",
              "11    Carlos         2    História    10\n",
              "12    Daniel         1  Matemática     4\n",
              "13    Daniel         1   Português     6\n",
              "14    Daniel         2      Física     3\n",
              "15    Daniel         2    História     9\n",
              "16  Fernanda         1  Matemática     2\n",
              "17  Fernanda         1   Português     8\n",
              "18  Fernanda         2      Física     6\n",
              "19  Fernanda         2    História     2\n",
              "20      João         1  Matemática     1\n",
              "21      João         1   Português     8\n",
              "22      João         2      Física     8\n",
              "23      João         2    História     2"
            ]
          },
          "metadata": {
            "tags": []
          },
          "execution_count": 11
        }
      ]
    },
    {
      "cell_type": "markdown",
      "metadata": {
        "id": "UbiSSAsQIv8Y"
      },
      "source": [
        "### 1. Observe o comportamento nas células abaixo dos métodos head e tail. Explique na célula abaixo o que esses dois métodos fazem e para que serve o parâmetro \"n\" existente em cada um deles."
      ]
    },
    {
      "cell_type": "markdown",
      "metadata": {
        "id": "tvvXCczAJNni"
      },
      "source": [
        "A função do metodo .head é de separar as primeiras linhas do Dataframe, a do metodo .tail é separar as ultimas linhas e o paramentro \"n\" indica a quantidade destas linhas."
      ]
    },
    {
      "cell_type": "code",
      "metadata": {
        "id": "fAzmCTl7Hchr",
        "outputId": "877a694f-c0a2-40d5-f472-b49829359d60",
        "colab": {
          "base_uri": "https://localhost:8080/",
          "height": 142
        }
      },
      "source": [
        "df.head(3)"
      ],
      "execution_count": null,
      "outputs": [
        {
          "output_type": "execute_result",
          "data": {
            "text/html": [
              "<div>\n",
              "<style scoped>\n",
              "    .dataframe tbody tr th:only-of-type {\n",
              "        vertical-align: middle;\n",
              "    }\n",
              "\n",
              "    .dataframe tbody tr th {\n",
              "        vertical-align: top;\n",
              "    }\n",
              "\n",
              "    .dataframe thead th {\n",
              "        text-align: right;\n",
              "    }\n",
              "</style>\n",
              "<table border=\"1\" class=\"dataframe\">\n",
              "  <thead>\n",
              "    <tr style=\"text-align: right;\">\n",
              "      <th></th>\n",
              "      <th>Aluno</th>\n",
              "      <th>Semestre</th>\n",
              "      <th>Disciplina</th>\n",
              "      <th>Nota</th>\n",
              "    </tr>\n",
              "  </thead>\n",
              "  <tbody>\n",
              "    <tr>\n",
              "      <th>0</th>\n",
              "      <td>Ana</td>\n",
              "      <td>1</td>\n",
              "      <td>Matemática</td>\n",
              "      <td>1</td>\n",
              "    </tr>\n",
              "    <tr>\n",
              "      <th>1</th>\n",
              "      <td>Ana</td>\n",
              "      <td>1</td>\n",
              "      <td>Português</td>\n",
              "      <td>6</td>\n",
              "    </tr>\n",
              "    <tr>\n",
              "      <th>2</th>\n",
              "      <td>Ana</td>\n",
              "      <td>2</td>\n",
              "      <td>Física</td>\n",
              "      <td>8</td>\n",
              "    </tr>\n",
              "  </tbody>\n",
              "</table>\n",
              "</div>"
            ],
            "text/plain": [
              "  Aluno  Semestre  Disciplina  Nota\n",
              "0   Ana         1  Matemática     1\n",
              "1   Ana         1   Português     6\n",
              "2   Ana         2      Física     8"
            ]
          },
          "metadata": {
            "tags": []
          },
          "execution_count": 13
        }
      ]
    },
    {
      "cell_type": "code",
      "metadata": {
        "id": "CcVYCcHTII1j",
        "outputId": "cd4be29a-ebd7-4838-829b-9cb938c9766b",
        "colab": {
          "base_uri": "https://localhost:8080/",
          "height": 142
        }
      },
      "source": [
        "df.tail(3)"
      ],
      "execution_count": null,
      "outputs": [
        {
          "output_type": "execute_result",
          "data": {
            "text/html": [
              "<div>\n",
              "<style scoped>\n",
              "    .dataframe tbody tr th:only-of-type {\n",
              "        vertical-align: middle;\n",
              "    }\n",
              "\n",
              "    .dataframe tbody tr th {\n",
              "        vertical-align: top;\n",
              "    }\n",
              "\n",
              "    .dataframe thead th {\n",
              "        text-align: right;\n",
              "    }\n",
              "</style>\n",
              "<table border=\"1\" class=\"dataframe\">\n",
              "  <thead>\n",
              "    <tr style=\"text-align: right;\">\n",
              "      <th></th>\n",
              "      <th>Aluno</th>\n",
              "      <th>Semestre</th>\n",
              "      <th>Disciplina</th>\n",
              "      <th>Nota</th>\n",
              "    </tr>\n",
              "  </thead>\n",
              "  <tbody>\n",
              "    <tr>\n",
              "      <th>21</th>\n",
              "      <td>João</td>\n",
              "      <td>1</td>\n",
              "      <td>Português</td>\n",
              "      <td>8</td>\n",
              "    </tr>\n",
              "    <tr>\n",
              "      <th>22</th>\n",
              "      <td>João</td>\n",
              "      <td>2</td>\n",
              "      <td>Física</td>\n",
              "      <td>8</td>\n",
              "    </tr>\n",
              "    <tr>\n",
              "      <th>23</th>\n",
              "      <td>João</td>\n",
              "      <td>2</td>\n",
              "      <td>História</td>\n",
              "      <td>2</td>\n",
              "    </tr>\n",
              "  </tbody>\n",
              "</table>\n",
              "</div>"
            ],
            "text/plain": [
              "   Aluno  Semestre Disciplina  Nota\n",
              "21  João         1  Português     8\n",
              "22  João         2     Física     8\n",
              "23  João         2   História     2"
            ]
          },
          "metadata": {
            "tags": []
          },
          "execution_count": 12
        }
      ]
    },
    {
      "cell_type": "markdown",
      "metadata": {
        "id": "syTFN8uTJ8Vx"
      },
      "source": [
        "### 2. As séries de dados que compõe o data frame possuem métodos para extrair informações como média, máximo e minímo. Na célula abaixo é exibida maior nota utilizando o método max() da série de dados Nota. Modifique a linha abaixo para exibir a média geral das notas no lugar do valor máximo."
      ]
    },
    {
      "cell_type": "code",
      "metadata": {
        "id": "lT7xKF60Itia",
        "outputId": "cc05df4d-1ed0-421b-f5a1-af06d416a596",
        "colab": {
          "base_uri": "https://localhost:8080/"
        }
      },
      "source": [
        "df['Nota'].mean()"
      ],
      "execution_count": null,
      "outputs": [
        {
          "output_type": "execute_result",
          "data": {
            "text/plain": [
              "5.458333333333333"
            ]
          },
          "metadata": {
            "tags": []
          },
          "execution_count": 15
        }
      ]
    },
    {
      "cell_type": "markdown",
      "metadata": {
        "id": "mku9fAxoLH7D"
      },
      "source": [
        "### 3. O exemplo abaixo mostra uma seleção condicional na qual são retornados todos os registros da disciplina de Física. Com base nesse exemplo, faça uma seleção condicional para retornar todos os registros com nota maior ou igual a 6."
      ]
    },
    {
      "cell_type": "code",
      "metadata": {
        "id": "Uemh4Q86Jqb8",
        "outputId": "e6492bbc-d03c-49f7-ca3f-8a08252dbc3d",
        "colab": {
          "base_uri": "https://localhost:8080/",
          "height": 235
        }
      },
      "source": [
        "df[df['Disciplina'] == 'Física']"
      ],
      "execution_count": null,
      "outputs": [
        {
          "output_type": "execute_result",
          "data": {
            "text/html": [
              "<div>\n",
              "<style scoped>\n",
              "    .dataframe tbody tr th:only-of-type {\n",
              "        vertical-align: middle;\n",
              "    }\n",
              "\n",
              "    .dataframe tbody tr th {\n",
              "        vertical-align: top;\n",
              "    }\n",
              "\n",
              "    .dataframe thead th {\n",
              "        text-align: right;\n",
              "    }\n",
              "</style>\n",
              "<table border=\"1\" class=\"dataframe\">\n",
              "  <thead>\n",
              "    <tr style=\"text-align: right;\">\n",
              "      <th></th>\n",
              "      <th>Aluno</th>\n",
              "      <th>Semestre</th>\n",
              "      <th>Disciplina</th>\n",
              "      <th>Nota</th>\n",
              "    </tr>\n",
              "  </thead>\n",
              "  <tbody>\n",
              "    <tr>\n",
              "      <th>2</th>\n",
              "      <td>Ana</td>\n",
              "      <td>2</td>\n",
              "      <td>Física</td>\n",
              "      <td>8</td>\n",
              "    </tr>\n",
              "    <tr>\n",
              "      <th>6</th>\n",
              "      <td>Beatriz</td>\n",
              "      <td>2</td>\n",
              "      <td>Física</td>\n",
              "      <td>4</td>\n",
              "    </tr>\n",
              "    <tr>\n",
              "      <th>10</th>\n",
              "      <td>Carlos</td>\n",
              "      <td>2</td>\n",
              "      <td>Física</td>\n",
              "      <td>3</td>\n",
              "    </tr>\n",
              "    <tr>\n",
              "      <th>14</th>\n",
              "      <td>Daniel</td>\n",
              "      <td>2</td>\n",
              "      <td>Física</td>\n",
              "      <td>3</td>\n",
              "    </tr>\n",
              "    <tr>\n",
              "      <th>18</th>\n",
              "      <td>Fernanda</td>\n",
              "      <td>2</td>\n",
              "      <td>Física</td>\n",
              "      <td>6</td>\n",
              "    </tr>\n",
              "    <tr>\n",
              "      <th>22</th>\n",
              "      <td>João</td>\n",
              "      <td>2</td>\n",
              "      <td>Física</td>\n",
              "      <td>8</td>\n",
              "    </tr>\n",
              "  </tbody>\n",
              "</table>\n",
              "</div>"
            ],
            "text/plain": [
              "       Aluno  Semestre Disciplina  Nota\n",
              "2        Ana         2     Física     8\n",
              "6    Beatriz         2     Física     4\n",
              "10    Carlos         2     Física     3\n",
              "14    Daniel         2     Física     3\n",
              "18  Fernanda         2     Física     6\n",
              "22      João         2     Física     8"
            ]
          },
          "metadata": {
            "tags": []
          },
          "execution_count": 14
        }
      ]
    },
    {
      "cell_type": "code",
      "metadata": {
        "id": "n4mBNxk4K7rb",
        "outputId": "cf6d9bf7-e1b8-430d-98c0-a57bda8256a9",
        "colab": {
          "base_uri": "https://localhost:8080/",
          "height": 452
        }
      },
      "source": [
        "df[df['Nota'] >= 6]"
      ],
      "execution_count": null,
      "outputs": [
        {
          "output_type": "execute_result",
          "data": {
            "text/html": [
              "<div>\n",
              "<style scoped>\n",
              "    .dataframe tbody tr th:only-of-type {\n",
              "        vertical-align: middle;\n",
              "    }\n",
              "\n",
              "    .dataframe tbody tr th {\n",
              "        vertical-align: top;\n",
              "    }\n",
              "\n",
              "    .dataframe thead th {\n",
              "        text-align: right;\n",
              "    }\n",
              "</style>\n",
              "<table border=\"1\" class=\"dataframe\">\n",
              "  <thead>\n",
              "    <tr style=\"text-align: right;\">\n",
              "      <th></th>\n",
              "      <th>Aluno</th>\n",
              "      <th>Semestre</th>\n",
              "      <th>Disciplina</th>\n",
              "      <th>Nota</th>\n",
              "    </tr>\n",
              "  </thead>\n",
              "  <tbody>\n",
              "    <tr>\n",
              "      <th>1</th>\n",
              "      <td>Ana</td>\n",
              "      <td>1</td>\n",
              "      <td>Português</td>\n",
              "      <td>6</td>\n",
              "    </tr>\n",
              "    <tr>\n",
              "      <th>2</th>\n",
              "      <td>Ana</td>\n",
              "      <td>2</td>\n",
              "      <td>Física</td>\n",
              "      <td>8</td>\n",
              "    </tr>\n",
              "    <tr>\n",
              "      <th>3</th>\n",
              "      <td>Ana</td>\n",
              "      <td>2</td>\n",
              "      <td>História</td>\n",
              "      <td>8</td>\n",
              "    </tr>\n",
              "    <tr>\n",
              "      <th>4</th>\n",
              "      <td>Beatriz</td>\n",
              "      <td>1</td>\n",
              "      <td>Matemática</td>\n",
              "      <td>7</td>\n",
              "    </tr>\n",
              "    <tr>\n",
              "      <th>7</th>\n",
              "      <td>Beatriz</td>\n",
              "      <td>2</td>\n",
              "      <td>História</td>\n",
              "      <td>8</td>\n",
              "    </tr>\n",
              "    <tr>\n",
              "      <th>9</th>\n",
              "      <td>Carlos</td>\n",
              "      <td>1</td>\n",
              "      <td>Português</td>\n",
              "      <td>8</td>\n",
              "    </tr>\n",
              "    <tr>\n",
              "      <th>11</th>\n",
              "      <td>Carlos</td>\n",
              "      <td>2</td>\n",
              "      <td>História</td>\n",
              "      <td>10</td>\n",
              "    </tr>\n",
              "    <tr>\n",
              "      <th>13</th>\n",
              "      <td>Daniel</td>\n",
              "      <td>1</td>\n",
              "      <td>Português</td>\n",
              "      <td>6</td>\n",
              "    </tr>\n",
              "    <tr>\n",
              "      <th>15</th>\n",
              "      <td>Daniel</td>\n",
              "      <td>2</td>\n",
              "      <td>História</td>\n",
              "      <td>9</td>\n",
              "    </tr>\n",
              "    <tr>\n",
              "      <th>17</th>\n",
              "      <td>Fernanda</td>\n",
              "      <td>1</td>\n",
              "      <td>Português</td>\n",
              "      <td>8</td>\n",
              "    </tr>\n",
              "    <tr>\n",
              "      <th>18</th>\n",
              "      <td>Fernanda</td>\n",
              "      <td>2</td>\n",
              "      <td>Física</td>\n",
              "      <td>6</td>\n",
              "    </tr>\n",
              "    <tr>\n",
              "      <th>21</th>\n",
              "      <td>João</td>\n",
              "      <td>1</td>\n",
              "      <td>Português</td>\n",
              "      <td>8</td>\n",
              "    </tr>\n",
              "    <tr>\n",
              "      <th>22</th>\n",
              "      <td>João</td>\n",
              "      <td>2</td>\n",
              "      <td>Física</td>\n",
              "      <td>8</td>\n",
              "    </tr>\n",
              "  </tbody>\n",
              "</table>\n",
              "</div>"
            ],
            "text/plain": [
              "       Aluno  Semestre  Disciplina  Nota\n",
              "1        Ana         1   Português     6\n",
              "2        Ana         2      Física     8\n",
              "3        Ana         2    História     8\n",
              "4    Beatriz         1  Matemática     7\n",
              "7    Beatriz         2    História     8\n",
              "9     Carlos         1   Português     8\n",
              "11    Carlos         2    História    10\n",
              "13    Daniel         1   Português     6\n",
              "15    Daniel         2    História     9\n",
              "17  Fernanda         1   Português     8\n",
              "18  Fernanda         2      Física     6\n",
              "21      João         1   Português     8\n",
              "22      João         2      Física     8"
            ]
          },
          "metadata": {
            "tags": []
          },
          "execution_count": 18
        }
      ]
    },
    {
      "cell_type": "markdown",
      "metadata": {
        "id": "CtR1L8k8LqwY"
      },
      "source": [
        "### 4. Utilize a propriedade .loc[] para retornar a nota na disciplina de Português do aluno Daniel."
      ]
    },
    {
      "cell_type": "code",
      "metadata": {
        "id": "gK1lJf6lLodY",
        "outputId": "30f9cc05-3f2d-4a82-86fc-04d499e83049",
        "colab": {
          "base_uri": "https://localhost:8080/"
        }
      },
      "source": [
        "df.loc[13,'Nota']"
      ],
      "execution_count": null,
      "outputs": [
        {
          "output_type": "execute_result",
          "data": {
            "text/plain": [
              "6"
            ]
          },
          "metadata": {
            "tags": []
          },
          "execution_count": 22
        }
      ]
    },
    {
      "cell_type": "markdown",
      "metadata": {
        "id": "7UAwxYERMFIq"
      },
      "source": [
        "### 5. Repita o procedimento do exercício 4, essa vez utilizando a propriedade .iloc[]."
      ]
    },
    {
      "cell_type": "code",
      "metadata": {
        "id": "507YcCvSMCk_",
        "outputId": "a55cc44a-5fac-4887-a75b-8150079ad97d",
        "colab": {
          "base_uri": "https://localhost:8080/"
        }
      },
      "source": [
        "df.iloc[13, 3]"
      ],
      "execution_count": null,
      "outputs": [
        {
          "output_type": "execute_result",
          "data": {
            "text/plain": [
              "6"
            ]
          },
          "metadata": {
            "tags": []
          },
          "execution_count": 26
        }
      ]
    },
    {
      "cell_type": "markdown",
      "metadata": {
        "id": "HX8XtYWDMqqZ"
      },
      "source": [
        "### 6. Utilize o método groupby para obter a nota média em cada disciplina:"
      ]
    },
    {
      "cell_type": "code",
      "metadata": {
        "id": "cBjq0h9XMVHR",
        "outputId": "74876f6a-baac-48d3-9ff2-9905fa3622f5",
        "colab": {
          "base_uri": "https://localhost:8080/",
          "height": 204
        }
      },
      "source": [
        "df.groupby(\"Disciplina\").mean()"
      ],
      "execution_count": null,
      "outputs": [
        {
          "output_type": "execute_result",
          "data": {
            "text/html": [
              "<div>\n",
              "<style scoped>\n",
              "    .dataframe tbody tr th:only-of-type {\n",
              "        vertical-align: middle;\n",
              "    }\n",
              "\n",
              "    .dataframe tbody tr th {\n",
              "        vertical-align: top;\n",
              "    }\n",
              "\n",
              "    .dataframe thead th {\n",
              "        text-align: right;\n",
              "    }\n",
              "</style>\n",
              "<table border=\"1\" class=\"dataframe\">\n",
              "  <thead>\n",
              "    <tr style=\"text-align: right;\">\n",
              "      <th></th>\n",
              "      <th>Semestre</th>\n",
              "      <th>Nota</th>\n",
              "    </tr>\n",
              "    <tr>\n",
              "      <th>Disciplina</th>\n",
              "      <th></th>\n",
              "      <th></th>\n",
              "    </tr>\n",
              "  </thead>\n",
              "  <tbody>\n",
              "    <tr>\n",
              "      <th>Física</th>\n",
              "      <td>2.0</td>\n",
              "      <td>5.333333</td>\n",
              "    </tr>\n",
              "    <tr>\n",
              "      <th>História</th>\n",
              "      <td>2.0</td>\n",
              "      <td>6.500000</td>\n",
              "    </tr>\n",
              "    <tr>\n",
              "      <th>Matemática</th>\n",
              "      <td>1.0</td>\n",
              "      <td>3.166667</td>\n",
              "    </tr>\n",
              "    <tr>\n",
              "      <th>Português</th>\n",
              "      <td>1.0</td>\n",
              "      <td>6.833333</td>\n",
              "    </tr>\n",
              "  </tbody>\n",
              "</table>\n",
              "</div>"
            ],
            "text/plain": [
              "            Semestre      Nota\n",
              "Disciplina                    \n",
              "Física           2.0  5.333333\n",
              "História         2.0  6.500000\n",
              "Matemática       1.0  3.166667\n",
              "Português        1.0  6.833333"
            ]
          },
          "metadata": {
            "tags": []
          },
          "execution_count": 29
        }
      ]
    },
    {
      "cell_type": "markdown",
      "metadata": {
        "id": "QwRNiO-1M9u3"
      },
      "source": [
        "### 7. Obtenha a nota média para cada um dos alunos, no resultado exiba apenas o nome do aluno e a nota média (removendo a coluna semestre do resultado com o método .drop())."
      ]
    },
    {
      "cell_type": "code",
      "metadata": {
        "id": "K9pj2U_iMllW",
        "outputId": "7a14daf2-16e5-4d32-abfc-8654f0be48f3",
        "colab": {
          "base_uri": "https://localhost:8080/",
          "height": 266
        }
      },
      "source": [
        "df.groupby('Aluno').mean().drop('Semestre', axis=1)"
      ],
      "execution_count": null,
      "outputs": [
        {
          "output_type": "execute_result",
          "data": {
            "text/html": [
              "<div>\n",
              "<style scoped>\n",
              "    .dataframe tbody tr th:only-of-type {\n",
              "        vertical-align: middle;\n",
              "    }\n",
              "\n",
              "    .dataframe tbody tr th {\n",
              "        vertical-align: top;\n",
              "    }\n",
              "\n",
              "    .dataframe thead th {\n",
              "        text-align: right;\n",
              "    }\n",
              "</style>\n",
              "<table border=\"1\" class=\"dataframe\">\n",
              "  <thead>\n",
              "    <tr style=\"text-align: right;\">\n",
              "      <th></th>\n",
              "      <th>Nota</th>\n",
              "    </tr>\n",
              "    <tr>\n",
              "      <th>Aluno</th>\n",
              "      <th></th>\n",
              "    </tr>\n",
              "  </thead>\n",
              "  <tbody>\n",
              "    <tr>\n",
              "      <th>Ana</th>\n",
              "      <td>5.75</td>\n",
              "    </tr>\n",
              "    <tr>\n",
              "      <th>Beatriz</th>\n",
              "      <td>6.00</td>\n",
              "    </tr>\n",
              "    <tr>\n",
              "      <th>Carlos</th>\n",
              "      <td>6.25</td>\n",
              "    </tr>\n",
              "    <tr>\n",
              "      <th>Daniel</th>\n",
              "      <td>5.50</td>\n",
              "    </tr>\n",
              "    <tr>\n",
              "      <th>Fernanda</th>\n",
              "      <td>4.50</td>\n",
              "    </tr>\n",
              "    <tr>\n",
              "      <th>João</th>\n",
              "      <td>4.75</td>\n",
              "    </tr>\n",
              "  </tbody>\n",
              "</table>\n",
              "</div>"
            ],
            "text/plain": [
              "          Nota\n",
              "Aluno         \n",
              "Ana       5.75\n",
              "Beatriz   6.00\n",
              "Carlos    6.25\n",
              "Daniel    5.50\n",
              "Fernanda  4.50\n",
              "João      4.75"
            ]
          },
          "metadata": {
            "tags": []
          },
          "execution_count": 36
        }
      ]
    },
    {
      "cell_type": "code",
      "metadata": {
        "id": "ec1ICEo7NUeh"
      },
      "source": [
        ""
      ],
      "execution_count": null,
      "outputs": []
    },
    {
      "cell_type": "code",
      "metadata": {
        "id": "X6O67VsnBRlf"
      },
      "source": [
        ""
      ],
      "execution_count": null,
      "outputs": []
    }
  ]
}